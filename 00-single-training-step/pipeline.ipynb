{
 "cells": [
  {
   "cell_type": "markdown",
   "metadata": {},
   "source": [
    "# Single-step pipeline examples\n",
    "\n",
    "In this example, we'll build a very simple pipeline, that just has a train step. The dataset and compute cluster created in this tutorial will be re-used in the subsequent tutorials."
   ]
  },
  {
   "cell_type": "code",
   "execution_count": null,
   "metadata": {
    "tags": []
   },
   "outputs": [],
   "source": [
    "import os\n",
    "import azureml.core\n",
    "from azureml.core import Workspace, Experiment, Dataset, RunConfiguration\n",
    "from azureml.pipeline.core import Pipeline, PipelineData\n",
    "from azureml.pipeline.steps import PythonScriptStep\n",
    "from azureml.data.dataset_consumption_config import DatasetConsumptionConfig\n",
    "\n",
    "print(\"Azure ML SDK version:\", azureml.core.VERSION)\n"
   ]
  },
  {
   "cell_type": "markdown",
   "metadata": {},
   "source": [
    "First, we will connect to the workspace. The command `Workspace.from_config()` will either:\n",
    "* Read the local `config.json` with the workspace reference (given it is there) or\n",
    "* Use the `az` CLI to connect to the workspace and use the workspace attached to via `az ml folder attach -g <resource group> -w <workspace name>`"
   ]
  },
  {
   "cell_type": "code",
   "execution_count": null,
   "metadata": {
    "tags": []
   },
   "outputs": [],
   "source": [
    "ws = Workspace.from_config()\n",
    "print(f'WS name: {ws.name}\\nRegion: {ws.location}\\nSubscription id: {ws.subscription_id}\\nResource group: {ws.resource_group}')"
   ]
  },
  {
   "cell_type": "markdown",
   "metadata": {},
   "source": [
    "# Preparation\n",
    "\n",
    "Let's quickly a create a compute cluster named `cpu-cluster`, in case it does not exist. Furthermore, we'll create a new dataset which we'll be using for this and the subsequent pipelines."
   ]
  },
  {
   "cell_type": "code",
   "execution_count": null,
   "metadata": {},
   "outputs": [],
   "source": [
    "from azureml.core.compute import ComputeTarget, AmlCompute\n",
    "from azureml.core.compute_target import ComputeTargetException\n",
    "\n",
    "aml_compute_target = \"cpu-cluster\"\n",
    "try:\n",
    "    aml_compute = AmlCompute(ws, aml_compute_target)\n",
    "except ComputeTargetException:   \n",
    "    config = AmlCompute.provisioning_configuration(vm_size = \"STANDARD_D2_V2\", min_nodes = 0, max_nodes = 1)    \n",
    "    aml_compute = ComputeTarget.create(ws, aml_compute_target, config)\n",
    "    aml_compute.wait_for_completion(show_output=True, min_node_count=None, timeout_in_minutes=20)"
   ]
  },
  {
   "cell_type": "code",
   "execution_count": null,
   "metadata": {
    "tags": []
   },
   "outputs": [],
   "source": [
    "from azureml.core import Dataset\n",
    "\n",
    "datastore = ws.get_default_datastore()\n",
    "datastore.upload(src_dir='../data-training', target_path='german-credit-pipeline-tutorial')\n",
    "ds = Dataset.File.from_files(path=[(datastore, 'german-credit-pipeline-tutorial')])\n",
    "ds.register(ws, name='german-credit-pipeline-tutorial', description='Dataset for pipeline tutorials')"
   ]
  },
  {
   "cell_type": "markdown",
   "metadata": {},
   "source": [
    "Next, let's reference our newly created training dataset, so that we can use it as the pipeline input:"
   ]
  },
  {
   "cell_type": "code",
   "execution_count": null,
   "metadata": {},
   "outputs": [],
   "source": [
    "\n",
    "training_dataset = Dataset.get_by_name(ws, \"german-credit-pipeline-tutorial\")\n",
    "# Download dataset to compute node - we can also use .as_mount() if the dataset does not fit the machine\n",
    "training_dataset_consumption = DatasetConsumptionConfig(\"training_dataset\", training_dataset).as_download()\n"
   ]
  },
  {
   "cell_type": "markdown",
   "metadata": {},
   "source": [
    "Next, we can create a `PythonScriptStep` that runs our training code. In this case, we use a `runconfig` from a YAML file, that defines our training job (source script, environement, etc.)"
   ]
  },
  {
   "cell_type": "code",
   "execution_count": null,
   "metadata": {},
   "outputs": [],
   "source": [
    "runconfig = RunConfiguration.load(\"runconfig.yml\")\n",
    "\n",
    "train_step = PythonScriptStep(name=\"train-step\",\n",
    "                        runconfig=runconfig,\n",
    "                        source_directory=\"../common-files/\",\n",
    "                        script_name=runconfig.script,\n",
    "                        arguments=['--data-path', training_dataset_consumption],\n",
    "                        inputs=[training_dataset_consumption],\n",
    "                        allow_reuse=False)\n",
    "\n",
    "steps = [train_step]"
   ]
  },
  {
   "cell_type": "markdown",
   "metadata": {},
   "source": [
    "Finally, we can create our pipeline object and validate it. This will check the input and outputs are properly linked and that the pipeline graph is a non-cyclic graph:"
   ]
  },
  {
   "cell_type": "code",
   "execution_count": null,
   "metadata": {
    "tags": []
   },
   "outputs": [],
   "source": [
    "pipeline = Pipeline(workspace=ws, steps=steps)\n",
    "pipeline.validate()"
   ]
  },
  {
   "cell_type": "markdown",
   "metadata": {},
   "source": [
    "Lastly, we can submit the pipeline against an experiment:"
   ]
  },
  {
   "cell_type": "code",
   "execution_count": null,
   "metadata": {
    "tags": []
   },
   "outputs": [],
   "source": [
    "pipeline_run = Experiment(ws, 'training-pipeline').submit(pipeline)\n",
    "pipeline_run.wait_for_completion()"
   ]
  },
  {
   "cell_type": "markdown",
   "metadata": {},
   "source": [
    "Alternatively, we can also publish the pipeline as a RESTful API Endpoint:"
   ]
  },
  {
   "cell_type": "code",
   "execution_count": null,
   "metadata": {},
   "outputs": [],
   "source": [
    "published_pipeline = pipeline.publish('trainnig-pipeline')\n",
    "published_pipeline"
   ]
  }
 ],
 "metadata": {
  "language_info": {
   "codemirror_mode": {
    "name": "ipython",
    "version": 3
   },
   "file_extension": ".py",
   "mimetype": "text/x-python",
   "name": "python",
   "nbconvert_exporter": "python",
   "pygments_lexer": "ipython3",
   "version": 3
  },
  "orig_nbformat": 2,
  "kernelspec": {
   "name": "python_defaultSpec_1594113740817",
   "display_name": "Python 3.6.10 64-bit ('azureml': conda)"
  }
 },
 "nbformat": 4,
 "nbformat_minor": 2
}